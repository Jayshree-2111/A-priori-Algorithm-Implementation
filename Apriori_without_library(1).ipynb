{
  "nbformat": 4,
  "nbformat_minor": 0,
  "metadata": {
    "colab": {
      "provenance": []
    },
    "kernelspec": {
      "name": "python3",
      "display_name": "Python 3"
    },
    "language_info": {
      "name": "python"
    }
  },
  "cells": [
    {
      "cell_type": "markdown",
      "source": [
        "***Apriori algorithm is an algorithm which is used to calculate the association rules between objects. It means how two or more objects are related to one another. In other words, we can say that the apriori algorithm is an association rule mining algorithm that finds how frequently, if people who bought product A also bought product B.***"
      ],
      "metadata": {
        "id": "5CBvz_QMYF_I"
      }
    },
    {
      "cell_type": "markdown",
      "source": [
        "**Here, we considered a dataset of 5 different item sets with 9 different transaction ids.**"
      ],
      "metadata": {
        "id": "yifg2dnkY1FI"
      }
    },
    {
      "cell_type": "code",
      "execution_count": null,
      "metadata": {
        "id": "Eup1gSB6nt6v"
      },
      "outputs": [],
      "source": [
        "data=[\n",
        "    ['T1',['Chocolate','Cookies','Cake']],\n",
        "    ['T2',['Cookies','Icecream']],\n",
        "    ['T3',['Cookies','Brownie']],\n",
        "    ['T4',['Chocolate','Cookies','Icecream']],\n",
        "    ['T5',['Chocolate','Brownie']],\n",
        "    ['T6',['Cookies','Brownie']],\n",
        "    ['T7',['Chocolate','Brownie']],\n",
        "    ['T8',['Chocolate','Cookies','Brownie','Cake']],\n",
        "    ['T9',['Chocolate','Cookies','Brownie']]\n",
        "]"
      ]
    },
    {
      "cell_type": "markdown",
      "source": [
        "**We created a list of unique item sets that we have and further we sorted them alphabetically.**"
      ],
      "metadata": {
        "id": "0Z935q3OaN3Z"
      }
    },
    {
      "cell_type": "code",
      "source": [
        "arr =[]\n",
        "for i in data:\n",
        "    for j in i[1]:\n",
        "        if(j not in arr):\n",
        "            arr.append(j)\n",
        "arr = sorted(arr)\n",
        "print(arr)"
      ],
      "metadata": {
        "colab": {
          "base_uri": "https://localhost:8080/"
        },
        "id": "hQeNXZH0n8U1",
        "outputId": "dfd0b03f-9fea-48e8-94b1-5752b547839d"
      },
      "execution_count": null,
      "outputs": [
        {
          "output_type": "stream",
          "name": "stdout",
          "text": [
            "['Brownie', 'Cake', 'Chocolate', 'Cookies', 'Icecream']\n"
          ]
        }
      ]
    },
    {
      "cell_type": "markdown",
      "source": [
        "**We took the Minimum Support Count Value as 2.**"
      ],
      "metadata": {
        "id": "yrHm3cVPaj18"
      }
    },
    {
      "cell_type": "code",
      "source": [
        "# minimum support count\n",
        "s=2"
      ],
      "metadata": {
        "id": "WU11GREAn8ym"
      },
      "execution_count": null,
      "outputs": []
    },
    {
      "cell_type": "markdown",
      "source": [
        "**Here, we used the brute force approach for each iteration. Then we firstly obtained the candidate set as C1 with their respective support counts. After C1, a list of frequent sets (having support count greater than minimum support count(i.e, 2 here)) is obtained as L1. **\n",
        "**Then Union operation is performed in order to find the super sets and their support count. Only those sets that is having support count greater than minimum support count are considered for performing union operation in order to obtain the C2,C3,etc, otherwise they are declined. Further candidate sets and lists are obtained and their support count is being compared.**"
      ],
      "metadata": {
        "id": "kiNqCDwiauFh"
      }
    },
    {
      "cell_type": "markdown",
      "source": [
        "**Note:**\n",
        "* Counter is a subclass of dict that's specially designed for counting hashable objects.\n",
        "* frozenset() Method creates an immutable Set object from an iteration. It is a built-in Python function.As it is a set object therefore we cannot have duplicate values in the frozenset.\n",
        "\n"
      ],
      "metadata": {
        "id": "ZQIbH1wLddzq"
      }
    },
    {
      "cell_type": "code",
      "source": [
        "from collections import Counter\n",
        "c = Counter()\n",
        "for i in arr:\n",
        "    for d in data:\n",
        "        if(i in d[1]):\n",
        "            c[i]+=1\n",
        "print(\"C1:\")\n",
        "for i in c:\n",
        "    print(str([i])+\": \"+str(c[i]))\n",
        "print()\n",
        "l = Counter()\n",
        "for i in c:\n",
        "    if(c[i] >= s):\n",
        "        l[frozenset([i])]+=c[i]\n",
        "print(\"L1:\")\n",
        "for i in l:\n",
        "    print(str(list(i))+\": \"+str(l[i]))\n",
        "print()\n",
        "pl = l\n",
        "pos = 1\n",
        "for count in range (2,1000):\n",
        "    nc = set()\n",
        "    temp = list(l)\n",
        "    for i in range(0,len(temp)):\n",
        "        for j in range(i+1,len(temp)):\n",
        "            t = temp[i].union(temp[j])\n",
        "            if(len(t) == count):\n",
        "                nc.add(temp[i].union(temp[j]))\n",
        "    nc = list(nc)\n",
        "    c = Counter()\n",
        "    for i in nc:\n",
        "        c[i] = 0\n",
        "        for q in data:\n",
        "            temp = set(q[1])\n",
        "            if(i.issubset(temp)):\n",
        "                c[i]+=1\n",
        "    print(\"C\"+str(count)+\":\")\n",
        "    for i in c:\n",
        "        print(str(list(i))+\": \"+str(c[i]))\n",
        "    print()\n",
        "    l = Counter()\n",
        "    for i in c:\n",
        "        if(c[i] >= s):\n",
        "            l[i]+=c[i]\n",
        "    print(\"L\"+str(count)+\":\")\n",
        "    for i in l:\n",
        "        print(str(list(i))+\": \"+str(l[i]))\n",
        "    print()\n",
        "    if(len(l) == 0):\n",
        "        break\n",
        "    pl = l\n",
        "    pos = count\n",
        "print(\"Result: \")\n",
        "print(\"L\"+str(pos)+\":\")\n",
        "for i in pl:\n",
        "    print(str(list(i))+\": \"+str(pl[i]))\n",
        "print()"
      ],
      "metadata": {
        "colab": {
          "base_uri": "https://localhost:8080/"
        },
        "id": "V1Ahb2luoSVW",
        "outputId": "890b4a50-cbdf-4bfc-e152-b69ec2bbaae3"
      },
      "execution_count": null,
      "outputs": [
        {
          "output_type": "stream",
          "name": "stdout",
          "text": [
            "C1:\n",
            "['Brownie']: 6\n",
            "['Cake']: 2\n",
            "['Chocolate']: 6\n",
            "['Cookies']: 7\n",
            "['Icecream']: 2\n",
            "\n",
            "L1:\n",
            "['Brownie']: 6\n",
            "['Cake']: 2\n",
            "['Chocolate']: 6\n",
            "['Cookies']: 7\n",
            "['Icecream']: 2\n",
            "\n",
            "C2:\n",
            "['Icecream', 'Brownie']: 0\n",
            "['Chocolate', 'Brownie']: 4\n",
            "['Cookies', 'Brownie']: 4\n",
            "['Icecream', 'Chocolate']: 1\n",
            "['Chocolate', 'Cake']: 2\n",
            "['Icecream', 'Cake']: 0\n",
            "['Cookies', 'Cake']: 2\n",
            "['Cookies', 'Icecream']: 2\n",
            "['Brownie', 'Cake']: 1\n",
            "['Cookies', 'Chocolate']: 4\n",
            "\n",
            "L2:\n",
            "['Chocolate', 'Brownie']: 4\n",
            "['Cookies', 'Brownie']: 4\n",
            "['Chocolate', 'Cake']: 2\n",
            "['Cookies', 'Cake']: 2\n",
            "['Cookies', 'Icecream']: 2\n",
            "['Cookies', 'Chocolate']: 4\n",
            "\n",
            "C3:\n",
            "['Cookies', 'Icecream', 'Brownie']: 0\n",
            "['Chocolate', 'Brownie', 'Cake']: 1\n",
            "['Cookies', 'Brownie', 'Cake']: 1\n",
            "['Chocolate', 'Cookies', 'Brownie']: 2\n",
            "['Chocolate', 'Cookies', 'Icecream']: 1\n",
            "['Cookies', 'Chocolate', 'Cake']: 2\n",
            "['Cookies', 'Icecream', 'Cake']: 0\n",
            "\n",
            "L3:\n",
            "['Chocolate', 'Cookies', 'Brownie']: 2\n",
            "['Cookies', 'Chocolate', 'Cake']: 2\n",
            "\n",
            "C4:\n",
            "['Cookies', 'Chocolate', 'Brownie', 'Cake']: 1\n",
            "\n",
            "L4:\n",
            "\n",
            "Result: \n",
            "L3:\n",
            "['Chocolate', 'Cookies', 'Brownie']: 2\n",
            "['Cookies', 'Chocolate', 'Cake']: 2\n",
            "\n"
          ]
        }
      ]
    }
  ]
}